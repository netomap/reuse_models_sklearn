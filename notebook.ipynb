{
 "metadata": {
  "language_info": {
   "codemirror_mode": {
    "name": "ipython",
    "version": 3
   },
   "file_extension": ".py",
   "mimetype": "text/x-python",
   "name": "python",
   "nbconvert_exporter": "python",
   "pygments_lexer": "ipython3",
   "version": "3.8.2"
  },
  "orig_nbformat": 2,
  "kernelspec": {
   "name": "python382jvsc74a57bd06f5d54e80760dde3b458defbbe95428c3373834ca7084fc7b2d7e5e174dae5c1",
   "display_name": "Python 3.8.2 32-bit"
  }
 },
 "nbformat": 4,
 "nbformat_minor": 2,
 "cells": [
  {
   "source": [
    "# Importando os módulos necessários"
   ],
   "cell_type": "markdown",
   "metadata": {}
  },
  {
   "cell_type": "code",
   "execution_count": 1,
   "metadata": {},
   "outputs": [],
   "source": [
    "import pandas as pd\n",
    "import matplotlib.pyplot as plt\n",
    "\n",
    "from sklearn.ensemble import RandomForestClassifier\n",
    "from sklearn.neural_network import MLPClassifier\n",
    "from sklearn.metrics import accuracy_score, precision_score, recall_score, f1_score, confusion_matrix\n",
    "from sklearn.model_selection import train_test_split, GridSearchCV\n",
    "from sklearn.preprocessing import LabelEncoder, OneHotEncoder, LabelBinarizer, MinMaxScaler\n",
    "from joblib import load, dump\n",
    "from ClasseUtilitarios import Utilitarios"
   ]
  },
  {
   "source": [
    "# Importando o dataset para treino do modelo"
   ],
   "cell_type": "markdown",
   "metadata": {}
  },
  {
   "cell_type": "code",
   "execution_count": 2,
   "metadata": {},
   "outputs": [
    {
     "output_type": "execute_result",
     "data": {
      "text/plain": [
       "   age           job  marital  education default  balance housing loan  \\\n",
       "0   58    management  married   tertiary      no     2143     yes   no   \n",
       "1   44    technician   single  secondary      no       29     yes   no   \n",
       "2   33  entrepreneur  married  secondary      no        2     yes  yes   \n",
       "3   47   blue-collar  married    unknown      no     1506     yes   no   \n",
       "4   33       unknown   single    unknown      no        1      no   no   \n",
       "\n",
       "   contact  day month  duration  campaign  pdays  previous poutcome   y  \n",
       "0  unknown    5   may       261         1     -1         0  unknown  no  \n",
       "1  unknown    5   may       151         1     -1         0  unknown  no  \n",
       "2  unknown    5   may        76         1     -1         0  unknown  no  \n",
       "3  unknown    5   may        92         1     -1         0  unknown  no  \n",
       "4  unknown    5   may       198         1     -1         0  unknown  no  "
      ],
      "text/html": "<div>\n<style scoped>\n    .dataframe tbody tr th:only-of-type {\n        vertical-align: middle;\n    }\n\n    .dataframe tbody tr th {\n        vertical-align: top;\n    }\n\n    .dataframe thead th {\n        text-align: right;\n    }\n</style>\n<table border=\"1\" class=\"dataframe\">\n  <thead>\n    <tr style=\"text-align: right;\">\n      <th></th>\n      <th>age</th>\n      <th>job</th>\n      <th>marital</th>\n      <th>education</th>\n      <th>default</th>\n      <th>balance</th>\n      <th>housing</th>\n      <th>loan</th>\n      <th>contact</th>\n      <th>day</th>\n      <th>month</th>\n      <th>duration</th>\n      <th>campaign</th>\n      <th>pdays</th>\n      <th>previous</th>\n      <th>poutcome</th>\n      <th>y</th>\n    </tr>\n  </thead>\n  <tbody>\n    <tr>\n      <th>0</th>\n      <td>58</td>\n      <td>management</td>\n      <td>married</td>\n      <td>tertiary</td>\n      <td>no</td>\n      <td>2143</td>\n      <td>yes</td>\n      <td>no</td>\n      <td>unknown</td>\n      <td>5</td>\n      <td>may</td>\n      <td>261</td>\n      <td>1</td>\n      <td>-1</td>\n      <td>0</td>\n      <td>unknown</td>\n      <td>no</td>\n    </tr>\n    <tr>\n      <th>1</th>\n      <td>44</td>\n      <td>technician</td>\n      <td>single</td>\n      <td>secondary</td>\n      <td>no</td>\n      <td>29</td>\n      <td>yes</td>\n      <td>no</td>\n      <td>unknown</td>\n      <td>5</td>\n      <td>may</td>\n      <td>151</td>\n      <td>1</td>\n      <td>-1</td>\n      <td>0</td>\n      <td>unknown</td>\n      <td>no</td>\n    </tr>\n    <tr>\n      <th>2</th>\n      <td>33</td>\n      <td>entrepreneur</td>\n      <td>married</td>\n      <td>secondary</td>\n      <td>no</td>\n      <td>2</td>\n      <td>yes</td>\n      <td>yes</td>\n      <td>unknown</td>\n      <td>5</td>\n      <td>may</td>\n      <td>76</td>\n      <td>1</td>\n      <td>-1</td>\n      <td>0</td>\n      <td>unknown</td>\n      <td>no</td>\n    </tr>\n    <tr>\n      <th>3</th>\n      <td>47</td>\n      <td>blue-collar</td>\n      <td>married</td>\n      <td>unknown</td>\n      <td>no</td>\n      <td>1506</td>\n      <td>yes</td>\n      <td>no</td>\n      <td>unknown</td>\n      <td>5</td>\n      <td>may</td>\n      <td>92</td>\n      <td>1</td>\n      <td>-1</td>\n      <td>0</td>\n      <td>unknown</td>\n      <td>no</td>\n    </tr>\n    <tr>\n      <th>4</th>\n      <td>33</td>\n      <td>unknown</td>\n      <td>single</td>\n      <td>unknown</td>\n      <td>no</td>\n      <td>1</td>\n      <td>no</td>\n      <td>no</td>\n      <td>unknown</td>\n      <td>5</td>\n      <td>may</td>\n      <td>198</td>\n      <td>1</td>\n      <td>-1</td>\n      <td>0</td>\n      <td>unknown</td>\n      <td>no</td>\n    </tr>\n  </tbody>\n</table>\n</div>"
     },
     "metadata": {},
     "execution_count": 2
    }
   ],
   "source": [
    "df = pd.read_csv('bank-full.csv', sep=';') # importando o dataset\n",
    "df.head()  # visualizando dataset"
   ]
  },
  {
   "source": [
    "# Análise exploratória\n",
    "- Apenas um exemplo de análise, deve-se realizar até mais análise"
   ],
   "cell_type": "markdown",
   "metadata": {}
  },
  {
   "cell_type": "code",
   "execution_count": 3,
   "metadata": {},
   "outputs": [],
   "source": [
    "colunas_categoricas = ['job', 'marital', 'education', 'default', 'housing', 'loan', 'contact', 'month', 'poutcome', 'y']"
   ]
  },
  {
   "cell_type": "code",
   "execution_count": 4,
   "metadata": {},
   "outputs": [
    {
     "output_type": "stream",
     "name": "stdout",
     "text": [
      "job\n['management' 'technician' 'entrepreneur' 'blue-collar' 'unknown'\n 'retired' 'admin.' 'services' 'self-employed' 'unemployed' 'housemaid'\n 'student']\nmarital\n['married' 'single' 'divorced']\neducation\n['tertiary' 'secondary' 'unknown' 'primary']\ndefault\n['no' 'yes']\nhousing\n['yes' 'no']\nloan\n['no' 'yes']\ncontact\n['unknown' 'cellular' 'telephone']\nmonth\n['may' 'jun' 'jul' 'aug' 'oct' 'nov' 'dec' 'jan' 'feb' 'mar' 'apr' 'sep']\npoutcome\n['unknown' 'failure' 'other' 'success']\ny\n['no' 'yes']\n"
     ]
    }
   ],
   "source": [
    "for c in colunas_categoricas:\n",
    "    print (c)\n",
    "    print (df[c].unique())"
   ]
  },
  {
   "cell_type": "code",
   "execution_count": 5,
   "metadata": {},
   "outputs": [
    {
     "output_type": "execute_result",
     "data": {
      "text/plain": [
       "{'default': LabelEncoder(), 'housing': LabelEncoder(), 'loan': LabelEncoder()}"
      ]
     },
     "metadata": {},
     "execution_count": 5
    }
   ],
   "source": [
    "# Podemos ver no resultado das colunas categóricas acima que DEFAULT, HOUSING, LOAN, Y podem ser usadas com LabelEncoder\n",
    "# transformando no-> 0 e yes-> 1\n",
    "colunas_LabelEncode = ['default', 'housing', 'loan']\n",
    "label_encoders = {}\n",
    "for c in colunas_LabelEncode:\n",
    "    label_encoders[c] = LabelEncoder().fit(df[c])\n",
    "\n",
    "label_encoders"
   ]
  },
  {
   "cell_type": "code",
   "execution_count": 6,
   "metadata": {},
   "outputs": [],
   "source": [
    "encoder_output = LabelEncoder().fit(df.y)  # esse é o encoder da nossa variável dependente"
   ]
  },
  {
   "cell_type": "code",
   "execution_count": 7,
   "metadata": {},
   "outputs": [
    {
     "output_type": "execute_result",
     "data": {
      "text/plain": [
       "{'job': LabelBinarizer(),\n",
       " 'marital': LabelBinarizer(),\n",
       " 'education': LabelBinarizer(),\n",
       " 'contact': LabelBinarizer(),\n",
       " 'month': LabelBinarizer(),\n",
       " 'poutcome': LabelBinarizer()}"
      ]
     },
     "metadata": {},
     "execution_count": 7
    }
   ],
   "source": [
    "# Sobraram então das colunas categórigas as seguintes: job, marital, education, contact, month e poutcome\n",
    "# Para essas, vamos tentar fazer LabelBinarizer, que utiliza técnica One-Hot-Encode\n",
    "colunas_LabelBinarizers = ['job', 'marital', 'education', 'contact', 'month', 'poutcome']\n",
    "label_binarizers = {}\n",
    "for c in colunas_LabelBinarizers:\n",
    "    label_binarizers[c] = LabelBinarizer().fit(df[c])\n",
    "\n",
    "label_binarizers"
   ]
  },
  {
   "source": [
    "---\n",
    "- Até aqui criamos 3 encoders:  \n",
    "- O primeiro é o LabelEncoder que salva todos as variáveis que decidimos transformar como labelEncode.  \n",
    "- Segundo é o LabelBinarizer que salva os parâmetros para as variáveis que decidimos transformar no tipo One-Hot-Encoder.  \n",
    "- Terceiro é o encoder da saída, no nosso caso colocamos encoder_output.\n",
    "---\n",
    "- Agora vamos importar a classe Utilitarios e usar algumas funções que criamos aqui mas separamos em um novo arquivo para que possamos reaproveitá-lo em outros ambientes, como produção."
   ],
   "cell_type": "markdown",
   "metadata": {}
  },
  {
   "cell_type": "code",
   "execution_count": 8,
   "metadata": {},
   "outputs": [
    {
     "output_type": "stream",
     "name": "stdout",
     "text": [
      "criado\n"
     ]
    }
   ],
   "source": [
    "utilitario = Utilitarios()"
   ]
  },
  {
   "cell_type": "code",
   "execution_count": 9,
   "metadata": {},
   "outputs": [],
   "source": [
    "# Vamos separar aqui o dataset em variáveis dependentes e variáveis independentes\n",
    "y = df.y    # ainda está como variável categórica\n",
    "y = encoder_output.transform(y)  # transformando nossa saída categórica em saída numérica\n",
    "\n",
    "x = df.drop(columns=['y'])   # retirando a variável dependente\n",
    "x = utilitario.pipeline(x, label_encoders_=label_encoders, label_binarizers_=label_binarizers) # transformando o df"
   ]
  },
  {
   "cell_type": "code",
   "execution_count": 10,
   "metadata": {},
   "outputs": [
    {
     "output_type": "stream",
     "name": "stdout",
     "text": [
      "(40689, 48), (4522, 48), (40689,), (4522,)\n"
     ]
    }
   ],
   "source": [
    "# Aqui separando o dataset em treino-teste para validação cruzada\n",
    "x_train, x_test, y_train, y_test = train_test_split(x, y, test_size=0.1, stratify=y, shuffle=True)\n",
    "print (x_train.shape, x_test.shape, y_train.shape, y_test.shape, sep=', ')"
   ]
  },
  {
   "cell_type": "code",
   "execution_count": 12,
   "metadata": {},
   "outputs": [],
   "source": [
    "# Criando agora nosso scaler e \"fitando-transformando\" nossos dados de treino e apenas transformando os dados de teste\n",
    "scaler = MinMaxScaler()   # criando objeto scaler\n",
    "scaler.fit(x_train)   # fitando\n",
    "x_train = scaler.transform(x_train)  # transformando treino\n",
    "x_test = scaler.transform(x_test)   # transformando teste"
   ]
  },
  {
   "source": [
    "# Criando um modelo RandomForest"
   ],
   "cell_type": "markdown",
   "metadata": {}
  },
  {
   "cell_type": "code",
   "execution_count": 13,
   "metadata": {},
   "outputs": [
    {
     "output_type": "stream",
     "name": "stdout",
     "text": [
      "Accuracy: 90.16%\nPrecision: 35.73%\nRecall: 64.29%\nF1-Score: 45.93%\n\n"
     ]
    }
   ],
   "source": [
    "# Criando agora nosso modelo ENSEMBLE\n",
    "model = RandomForestClassifier()  # instanciando\n",
    "model.fit(x_train, y_train) # treinando\n",
    "y_pred = model.predict(x_test) # inferência\n",
    "\n",
    "accuracy = accuracy_score(y_pred, y_test)\n",
    "precision = precision_score(y_pred, y_test)\n",
    "recall = recall_score(y_pred, y_test)\n",
    "f1score = f1_score(y_pred, y_test)\n",
    "\n",
    "print ('Accuracy: {:0.2f}%\\nPrecision: {:0.2f}%\\nRecall: {:0.2f}%\\nF1-Score: {:0.2f}%\\n'.format(\n",
    "    100*accuracy, 100*precision, 100*recall, 100*f1score\n",
    "))"
   ]
  },
  {
   "source": [
    "---\n",
    "- Depois que escolhemos o nosso melhor modelo, podemos salvá-lo junto com todos os seus parâmetros para que depois possa ser reutilizado em outros ambientes e códigos."
   ],
   "cell_type": "markdown",
   "metadata": {}
  },
  {
   "cell_type": "code",
   "execution_count": 14,
   "metadata": {},
   "outputs": [
    {
     "output_type": "execute_result",
     "data": {
      "text/plain": [
       "['ensemble.joblib']"
      ]
     },
     "metadata": {},
     "execution_count": 14
    }
   ],
   "source": [
    "# Criando um dicionário e salvando utilizando joblib.dump()\n",
    "parametros_modelo = {\n",
    "    'description': 'Modelo RandomForestClassifier treinado utilizando dataset UCI-Bank',\n",
    "    'model': model,\n",
    "    'scaler': scaler,\n",
    "    'label_binarizers': label_binarizers,\n",
    "    'label_encoders': label_encoders,\n",
    "    'lastUpdate': '29-05-2021',\n",
    "    'columns': df.columns.values,\n",
    "    'encoder_output': encoder_output\n",
    "}\n",
    "dump(parametros_modelo, 'ensemble.joblib')"
   ]
  }
 ]
}